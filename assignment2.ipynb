{
 "cells": [
  {
   "cell_type": "markdown",
   "id": "0c115e24-0207-4c5b-af8e-bb767e614ee6",
   "metadata": {},
   "source": [
    "# <span style=\"color:blue\"> **Assignment 2: Multivariate Linear Regression**</span>"
   ]
  },
  {
   "cell_type": "markdown",
   "id": "04599972-37ea-4190-bf97-a0cedd959bff",
   "metadata": {},
   "source": [
    "## <span style=\"color:blue\"> **Modules & Packages**</span>"
   ]
  },
  {
   "cell_type": "code",
   "execution_count": 1,
   "id": "85f87cb7-af9b-48c8-b97e-18555ceafa23",
   "metadata": {},
   "outputs": [],
   "source": [
    "# Pandas: To manipulate DataFrames\n",
    "import pandas as pd\n",
    "# Seaborn & Matplotlib: To plot scatter plots\n",
    "import seaborn as sns\n",
    "import matplotlib.pyplot as plt\n",
    "# Statsmodels: To estimate our regression model\n",
    "import statsmodels.api as sm\n",
    "# Numpy: For mathematical computations\n",
    "import numpy as np"
   ]
  },
  {
   "cell_type": "markdown",
   "id": "8d4947fd-5bd2-4674-b9cb-ade4772a0ca2",
   "metadata": {
    "tags": []
   },
   "source": [
    "## <span style=\"color:blue\"> **The Dataset**</span>"
   ]
  },
  {
   "cell_type": "code",
   "execution_count": 3,
   "id": "1cb47b33-fec1-4371-a49c-6b0f9be30326",
   "metadata": {},
   "outputs": [],
   "source": [
    "sheet = [\"Y variable\", \"x1-market\", \"x2-value\", \"x3-small\"]\n",
    "sets = []\n",
    "\n",
    "data_dict = {}\n",
    "for title in sheet:\n",
    "    data_dict[title] = pd.DataFrame(pd.read_excel(\"TP2-Dataset.xlsx\", skiprows = range(6), sheet_name=title).iloc[:]['PX_LAST'])\n",
    "    data_dict[title][title] = np.log(data_dict[title]['PX_LAST']/data_dict[title]['PX_LAST'].shift(1))\n",
    "    del data_dict[title]['PX_LAST']\n",
    "    data_dict[title] = data_dict[title].dropna()\n",
    "    sets += [data_dict[title]]\n",
    "\n",
    "df = pd.concat(sets, axis = 1)"
   ]
  },
  {
   "cell_type": "code",
   "execution_count": 4,
   "id": "d35325d8-d279-4091-ae3f-f1eeff130d0b",
   "metadata": {},
   "outputs": [],
   "source": [
    "name = ['Tech', 'Market', 'Value', 'Size']\n",
    "\n",
    "ren = {sheet[i]: name for i, name in enumerate(name)}\n",
    "df = df.rename(columns=ren)"
   ]
  },
  {
   "cell_type": "code",
   "execution_count": 7,
   "id": "45bed2ea-efec-4801-8a64-650f103660b0",
   "metadata": {},
   "outputs": [
    {
     "data": {
      "text/html": [
       "<div>\n",
       "<style scoped>\n",
       "    .dataframe tbody tr th:only-of-type {\n",
       "        vertical-align: middle;\n",
       "    }\n",
       "\n",
       "    .dataframe tbody tr th {\n",
       "        vertical-align: top;\n",
       "    }\n",
       "\n",
       "    .dataframe thead th {\n",
       "        text-align: right;\n",
       "    }\n",
       "</style>\n",
       "<table border=\"1\" class=\"dataframe\">\n",
       "  <thead>\n",
       "    <tr style=\"text-align: right;\">\n",
       "      <th></th>\n",
       "      <th>Tech</th>\n",
       "      <th>Market</th>\n",
       "      <th>Value</th>\n",
       "      <th>Size</th>\n",
       "    </tr>\n",
       "  </thead>\n",
       "  <tbody>\n",
       "    <tr>\n",
       "      <th>count</th>\n",
       "      <td>517.000000</td>\n",
       "      <td>517.000000</td>\n",
       "      <td>517.000000</td>\n",
       "      <td>517.000000</td>\n",
       "    </tr>\n",
       "    <tr>\n",
       "      <th>mean</th>\n",
       "      <td>-0.003133</td>\n",
       "      <td>-0.000783</td>\n",
       "      <td>-0.000799</td>\n",
       "      <td>-0.000167</td>\n",
       "    </tr>\n",
       "    <tr>\n",
       "      <th>std</th>\n",
       "      <td>0.031860</td>\n",
       "      <td>0.019804</td>\n",
       "      <td>0.022181</td>\n",
       "      <td>0.027590</td>\n",
       "    </tr>\n",
       "    <tr>\n",
       "      <th>min</th>\n",
       "      <td>-0.151192</td>\n",
       "      <td>-0.090930</td>\n",
       "      <td>-0.095603</td>\n",
       "      <td>-0.134211</td>\n",
       "    </tr>\n",
       "    <tr>\n",
       "      <th>25%</th>\n",
       "      <td>-0.021413</td>\n",
       "      <td>-0.011619</td>\n",
       "      <td>-0.012017</td>\n",
       "      <td>-0.014185</td>\n",
       "    </tr>\n",
       "    <tr>\n",
       "      <th>50%</th>\n",
       "      <td>-0.004975</td>\n",
       "      <td>-0.002268</td>\n",
       "      <td>-0.001781</td>\n",
       "      <td>-0.002370</td>\n",
       "    </tr>\n",
       "    <tr>\n",
       "      <th>75%</th>\n",
       "      <td>0.013590</td>\n",
       "      <td>0.007087</td>\n",
       "      <td>0.007886</td>\n",
       "      <td>0.012890</td>\n",
       "    </tr>\n",
       "    <tr>\n",
       "      <th>max</th>\n",
       "      <td>0.140315</td>\n",
       "      <td>0.165685</td>\n",
       "      <td>0.211631</td>\n",
       "      <td>0.264327</td>\n",
       "    </tr>\n",
       "  </tbody>\n",
       "</table>\n",
       "</div>"
      ],
      "text/plain": [
       "             Tech      Market       Value        Size\n",
       "count  517.000000  517.000000  517.000000  517.000000\n",
       "mean    -0.003133   -0.000783   -0.000799   -0.000167\n",
       "std      0.031860    0.019804    0.022181    0.027590\n",
       "min     -0.151192   -0.090930   -0.095603   -0.134211\n",
       "25%     -0.021413   -0.011619   -0.012017   -0.014185\n",
       "50%     -0.004975   -0.002268   -0.001781   -0.002370\n",
       "75%      0.013590    0.007087    0.007886    0.012890\n",
       "max      0.140315    0.165685    0.211631    0.264327"
      ]
     },
     "execution_count": 7,
     "metadata": {},
     "output_type": "execute_result"
    }
   ],
   "source": [
    "with open('latex/descriptive_stats.txt', 'w') as txt_file:\n",
    "    txt_file.write(df.describe().to_latex())\n",
    "\n",
    "df.describe()"
   ]
  },
  {
   "cell_type": "markdown",
   "id": "9c987bc5-968d-49c1-b908-bde5faa82f7b",
   "metadata": {},
   "source": [
    "## <span style=\"color:blue\"> **Multivariate OLS Regression**</span>"
   ]
  },
  {
   "cell_type": "code",
   "execution_count": 8,
   "id": "009c0084-e6bc-4549-a272-d15534394bf7",
   "metadata": {},
   "outputs": [
    {
     "name": "stderr",
     "output_type": "stream",
     "text": [
      "C:\\Users\\joelc\\anaconda3\\lib\\site-packages\\statsmodels\\tsa\\tsatools.py:142: FutureWarning: In a future version of pandas all arguments of concat except for the argument 'objs' will be keyword-only\n",
      "  x = pd.concat(x[::order], 1)\n"
     ]
    },
    {
     "data": {
      "text/html": [
       "<table class=\"simpletable\">\n",
       "<caption>OLS Regression Results</caption>\n",
       "<tr>\n",
       "  <th>Dep. Variable:</th>          <td>Tech</td>       <th>  R-squared:         </th> <td>   0.499</td>\n",
       "</tr>\n",
       "<tr>\n",
       "  <th>Model:</th>                   <td>OLS</td>       <th>  Adj. R-squared:    </th> <td>   0.496</td>\n",
       "</tr>\n",
       "<tr>\n",
       "  <th>Method:</th>             <td>Least Squares</td>  <th>  F-statistic:       </th> <td>   170.1</td>\n",
       "</tr>\n",
       "<tr>\n",
       "  <th>Date:</th>             <td>Sat, 08 Oct 2022</td> <th>  Prob (F-statistic):</th> <td>1.56e-76</td>\n",
       "</tr>\n",
       "<tr>\n",
       "  <th>Time:</th>                 <td>18:01:09</td>     <th>  Log-Likelihood:    </th> <td>  1227.2</td>\n",
       "</tr>\n",
       "<tr>\n",
       "  <th>No. Observations:</th>      <td>   517</td>      <th>  AIC:               </th> <td>  -2446.</td>\n",
       "</tr>\n",
       "<tr>\n",
       "  <th>Df Residuals:</th>          <td>   513</td>      <th>  BIC:               </th> <td>  -2429.</td>\n",
       "</tr>\n",
       "<tr>\n",
       "  <th>Df Model:</th>              <td>     3</td>      <th>                     </th>     <td> </td>   \n",
       "</tr>\n",
       "<tr>\n",
       "  <th>Covariance Type:</th>      <td>nonrobust</td>    <th>                     </th>     <td> </td>   \n",
       "</tr>\n",
       "</table>\n",
       "<table class=\"simpletable\">\n",
       "<tr>\n",
       "     <td></td>       <th>coef</th>     <th>std err</th>      <th>t</th>      <th>P>|t|</th>  <th>[0.025</th>    <th>0.975]</th>  \n",
       "</tr>\n",
       "<tr>\n",
       "  <th>const</th>  <td>   -0.0022</td> <td>    0.001</td> <td>   -2.247</td> <td> 0.025</td> <td>   -0.004</td> <td>   -0.000</td>\n",
       "</tr>\n",
       "<tr>\n",
       "  <th>Market</th> <td>    2.8998</td> <td>    0.166</td> <td>   17.423</td> <td> 0.000</td> <td>    2.573</td> <td>    3.227</td>\n",
       "</tr>\n",
       "<tr>\n",
       "  <th>Value</th>  <td>   -1.6893</td> <td>    0.131</td> <td>  -12.932</td> <td> 0.000</td> <td>   -1.946</td> <td>   -1.433</td>\n",
       "</tr>\n",
       "<tr>\n",
       "  <th>Size</th>   <td>   -0.1698</td> <td>    0.072</td> <td>   -2.352</td> <td> 0.019</td> <td>   -0.312</td> <td>   -0.028</td>\n",
       "</tr>\n",
       "</table>\n",
       "<table class=\"simpletable\">\n",
       "<tr>\n",
       "  <th>Omnibus:</th>       <td>12.445</td> <th>  Durbin-Watson:     </th> <td>   2.194</td>\n",
       "</tr>\n",
       "<tr>\n",
       "  <th>Prob(Omnibus):</th> <td> 0.002</td> <th>  Jarque-Bera (JB):  </th> <td>  23.633</td>\n",
       "</tr>\n",
       "<tr>\n",
       "  <th>Skew:</th>          <td>-0.007</td> <th>  Prob(JB):          </th> <td>7.38e-06</td>\n",
       "</tr>\n",
       "<tr>\n",
       "  <th>Kurtosis:</th>      <td> 4.047</td> <th>  Cond. No.          </th> <td>    204.</td>\n",
       "</tr>\n",
       "</table><br/><br/>Notes:<br/>[1] Standard Errors assume that the covariance matrix of the errors is correctly specified."
      ],
      "text/plain": [
       "<class 'statsmodels.iolib.summary.Summary'>\n",
       "\"\"\"\n",
       "                            OLS Regression Results                            \n",
       "==============================================================================\n",
       "Dep. Variable:                   Tech   R-squared:                       0.499\n",
       "Model:                            OLS   Adj. R-squared:                  0.496\n",
       "Method:                 Least Squares   F-statistic:                     170.1\n",
       "Date:                Sat, 08 Oct 2022   Prob (F-statistic):           1.56e-76\n",
       "Time:                        18:01:09   Log-Likelihood:                 1227.2\n",
       "No. Observations:                 517   AIC:                            -2446.\n",
       "Df Residuals:                     513   BIC:                            -2429.\n",
       "Df Model:                           3                                         \n",
       "Covariance Type:            nonrobust                                         \n",
       "==============================================================================\n",
       "                 coef    std err          t      P>|t|      [0.025      0.975]\n",
       "------------------------------------------------------------------------------\n",
       "const         -0.0022      0.001     -2.247      0.025      -0.004      -0.000\n",
       "Market         2.8998      0.166     17.423      0.000       2.573       3.227\n",
       "Value         -1.6893      0.131    -12.932      0.000      -1.946      -1.433\n",
       "Size          -0.1698      0.072     -2.352      0.019      -0.312      -0.028\n",
       "==============================================================================\n",
       "Omnibus:                       12.445   Durbin-Watson:                   2.194\n",
       "Prob(Omnibus):                  0.002   Jarque-Bera (JB):               23.633\n",
       "Skew:                          -0.007   Prob(JB):                     7.38e-06\n",
       "Kurtosis:                       4.047   Cond. No.                         204.\n",
       "==============================================================================\n",
       "\n",
       "Notes:\n",
       "[1] Standard Errors assume that the covariance matrix of the errors is correctly specified.\n",
       "\"\"\""
      ]
     },
     "execution_count": 8,
     "metadata": {},
     "output_type": "execute_result"
    }
   ],
   "source": [
    "# Define dependant (y) and independent (x) variables\n",
    "y = df[name[0]]\n",
    "x = df[name[1:]]\n",
    "\n",
    "# Add a constant to the predictor variable (intercept)\n",
    "x = sm.add_constant(x)\n",
    "\n",
    "# Fit the OLS model to the sample data\n",
    "model_ols = sm.OLS(y, x).fit()\n",
    "\n",
    "with open('latex/model_summary.txt', 'w') as txt_file:\n",
    "    for table in model_ols.summary().tables:\n",
    "        txt_file.write(table.as_latex_tabular())\n",
    "\n",
    "# View model summary (intercept, coefficient, r-squared)\n",
    "model_ols.summary()"
   ]
  },
  {
   "cell_type": "markdown",
   "id": "ec720edb-7e4f-4783-8c15-367422e4afcf",
   "metadata": {},
   "source": [
    "## <span style=\"color:blue\"> **OLS Properties**</span>"
   ]
  },
  {
   "cell_type": "code",
   "execution_count": 10,
   "id": "f46ea6e3-119c-4fa3-abbe-d0dfe60238c2",
   "metadata": {},
   "outputs": [
    {
     "name": "stdout",
     "output_type": "stream",
     "text": [
      "-1.1102230246251565e-15\n"
     ]
    }
   ],
   "source": [
    "# Property 1: The sum of residuals must be null\n",
    "print(np.sum(model_ols.resid))"
   ]
  },
  {
   "cell_type": "markdown",
   "id": "a4874a54-1822-44fc-b709-a74e35a7737e",
   "metadata": {},
   "source": [
    "> This essentially means the sum of residuals is 0. The first property is therefore verified."
   ]
  },
  {
   "cell_type": "code",
   "execution_count": 12,
   "id": "d1b88f42-5904-4cbe-90f0-ed5957a8ff42",
   "metadata": {},
   "outputs": [
    {
     "name": "stdout",
     "output_type": "stream",
     "text": [
      "Covariance between Market and residuals: 6.7478978235217e-19\n",
      "Covariance between Value and residuals: 8.33532949273255e-19\n",
      "Covariance between Size and residuals: 8.640523999619216e-19\n"
     ]
    }
   ],
   "source": [
    "# Property 2: The covariances between the residuals and each explanatory variable must all be null\n",
    "\n",
    "col_names = [\"Market\", \"Value\", \"Size\"]\n",
    "\n",
    "for col in col_names:\n",
    "    cov = df[col].cov(model_ols.resid)\n",
    "    print(f\"Covariance between {col} and residuals: {cov}\")"
   ]
  },
  {
   "cell_type": "markdown",
   "id": "7228c694-b93f-4e4e-b37c-ad9cfa3aa39e",
   "metadata": {},
   "source": [
    "> The sample covariances between each explanatory variable and the model's residuals are all null. The second OLS property is thus verified."
   ]
  },
  {
   "cell_type": "code",
   "execution_count": 16,
   "id": "22fb9002-c3e1-4ebe-8f7a-25b69c9617b1",
   "metadata": {},
   "outputs": [
    {
     "name": "stdout",
     "output_type": "stream",
     "text": [
      "Sample average for Tech: -0.0031332184926364305\n",
      "Regression line passing through sample averages of the explan. variables: -0.0031332184926364283\n"
     ]
    }
   ],
   "source": [
    "# Property 3: The regression line must pass through the average values of the depedent variable and each explanatory variable\n",
    "# Store mean of each variable\n",
    "tech_mean = df.Tech.mean()\n",
    "market_mean = df.Market.mean()\n",
    "value_mean = df.Value.mean()\n",
    "size_mean = df.Size.mean()\n",
    "\n",
    "# Store estimators\n",
    "params = model_ols.params\n",
    "\n",
    "# Verify the property\n",
    "print(f\"Sample average for Tech: {tech_mean}\") \n",
    "print(f\"Regression line passing through sample averages of the explan. variables: {params[0] + params[1]*market_mean + params[2]*value_mean + params[3]*size_mean}\")"
   ]
  },
  {
   "cell_type": "markdown",
   "id": "5168e1bf-b09c-4e18-ba5e-f6a9a99e4d81",
   "metadata": {},
   "source": [
    "> These two values are approxiamtely equal. The third OLS property therefore holds."
   ]
  }
 ],
 "metadata": {
  "kernelspec": {
   "display_name": "Python 3 (ipykernel)",
   "language": "python",
   "name": "python3"
  },
  "language_info": {
   "codemirror_mode": {
    "name": "ipython",
    "version": 3
   },
   "file_extension": ".py",
   "mimetype": "text/x-python",
   "name": "python",
   "nbconvert_exporter": "python",
   "pygments_lexer": "ipython3",
   "version": "3.9.7"
  }
 },
 "nbformat": 4,
 "nbformat_minor": 5
}
